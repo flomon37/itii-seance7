{
 "cells": [
  {
   "cell_type": "markdown",
   "metadata": {},
   "source": [
    "En utilisant numpy:"
   ]
  },
  {
   "cell_type": "markdown",
   "metadata": {},
   "source": [
    "Ex 1 :Addition\n",
    "Écrire un programme pour lire les éléments de deux matrices et ajoutez les deux matrices dans la troisième.\n",
    "\n",
    "La somme de deux matrices de taille (m,n), $(A_{ij})$ et $(B_{ij})$ notée $A+B$  est à nouveau une matrice $(C_{ij})$ de taille (m,n), obtenue en additionnant les éléments correspondants: $(c_{ij}=a_{ij}+b_{ij})$\n"
   ]
  },
  {
   "cell_type": "code",
   "execution_count": 3,
   "metadata": {},
   "outputs": [
    {
     "output_type": "execute_result",
     "data": {
      "text/plain": [
       "array([[2., 2., 2., 2.],\n",
       "       [2., 2., 2., 2.],\n",
       "       [2., 2., 2., 2.],\n",
       "       [2., 2., 2., 2.]])"
      ]
     },
     "metadata": {},
     "execution_count": 3
    }
   ],
   "source": [
    "import numpy as np\n",
    "\n",
    "def matrix_add(a, b,):\n",
    "    return a+b\n",
    "\n",
    "a = np.ones((4,4))\n",
    "b = np.ones((4,4))\n",
    "\n",
    "matrix_add(a,b)"
   ]
  },
  {
   "cell_type": "markdown",
   "metadata": {},
   "source": [
    "Ex2 :Multiplication\n",
    "Écrire un programme pour lire les éléments de deux matrices, puis multipliez les deux matrices dans la troisième.\n",
    "\n",
    "Deux matrices ne peuvent être multipliées que si le nombre de colonnes de la première matrice est le même que le nombre de lignes de la seconde matrice.\n",
    "\n",
    "Si $ A=(a_{ij})$ est une matrice de taille (m,n), $ B=(b_{ij})$ et est une matrice de taille (n,p), alors leur produit, noté $AB=(c_{ij})$ est une matrice de taille (m,p) définie par :\n",
    "$$\\forall i,j : c_{ij}=\\sum_{k=i}^{n} a_{ik}*b_{kj}$$"
   ]
  },
  {
   "cell_type": "code",
   "execution_count": 30,
   "metadata": {},
   "outputs": [
    {
     "output_type": "stream",
     "name": "stdout",
     "text": [
      "True\n"
     ]
    },
    {
     "output_type": "execute_result",
     "data": {
      "text/plain": [
       "array([[ 5],\n",
       "       [11]])"
      ]
     },
     "metadata": {},
     "execution_count": 30
    }
   ],
   "source": [
    "import numpy as np\n",
    "\n",
    "def matrix_mul(a, b):\n",
    "    if a.ndim == b.ndim == 2:\n",
    "        if np.shape(a)[1] == np.shape(b)[0]:\n",
    "            return np.matmul(a, b)\n",
    "        else:\n",
    "            print(\"Nombre de colonnes de A =\", np.shape(a)[1], \" != Nombres de lignes de B =\", np.shape(b)[0])\n",
    "    else:\n",
    "        print(\"On ne peut multiplier que des matrices\")\n",
    "    \n",
    "\n",
    "a = np.array([[1, 2], [3,4]])\n",
    "b = np.array([[1], [2]])\n",
    "matrix_mul(a,b) "
   ]
  },
  {
   "cell_type": "markdown",
   "metadata": {},
   "source": [
    "Ex 3: Matrice de Markov\n",
    "\n",
    "Une matrice de Markov est une matrice carrée dont chaque élément est un réel compris entre 0 et 1 et dont la somme des éléments de chaque ligne vaut 1. Cela correspond, en probabilité, à la matrice de transition d'une chaîne de Markov finie.\n",
    "\n",
    "Une matrice est dite bistochastique (ou doublement stochastique) si la somme des éléments de chaque ligne et de chaque colonne vaut 1.\n",
    "\n",
    "1. Ecrire une fonction eststochastique(P) qui permet de vérifier est ce que la matrice P est stochastique ou non\n",
    "2. Ecrire une fonction estbistochastique(P) qui permet de vérifier est ce que la matrice P est bistochastique ou non\n",
    "3. Ecrire une fonction vecteurstable(G, h) qui permet de vérifier est ce que h est un vecteur stable de G ou non\n",
    "\n"
   ]
  },
  {
   "cell_type": "code",
   "execution_count": 52,
   "metadata": {},
   "outputs": [
    {
     "output_type": "stream",
     "name": "stdout",
     "text": [
      "[[0.   0.5  0.5 ]\n [0.   1.   0.  ]\n [0.33 0.34 0.33]]\n[[0.33333333 0.33333333 0.33333333]\n [0.33333333 0.33333333 0.33333333]\n [0.33333333 0.33333333 0.33333333]]\nTrue\n"
     ]
    },
    {
     "output_type": "execute_result",
     "data": {
      "text/plain": [
       "True"
      ]
     },
     "metadata": {},
     "execution_count": 52
    }
   ],
   "source": [
    "import numpy as np\n",
    "\n",
    "def est_stochastique(P):\n",
    "    if P.ndim != 2:\n",
    "        print(\"Pas une matrice\")\n",
    "        return\n",
    "    for i in range(0, np.shape(P)[0]):\n",
    "        sum = 0\n",
    "        for j in range(0, np.shape(P)[1]):\n",
    "            if not (0 <= P[i][j] <= 1) :\n",
    "                print(f'P[{i}][{j}] = {P[i][j]} n\\'est pas compris entre 0 et 1')\n",
    "                return False\n",
    "            sum += P[i][j]\n",
    "        if sum != 1:\n",
    "            print(\"La somme de la ligne\", i, \"=\",sum,\"ne fait pas 1\")\n",
    "            return False\n",
    "    return True\n",
    "\n",
    "def est_bistochastique(P):\n",
    "    if P.ndim != 2:\n",
    "        print(\"Pas une matrice\")\n",
    "        return\n",
    "    for j in range(0, np.shape(P)[1]):\n",
    "        sum = 0\n",
    "        for i in range(0, np.shape(P)[0]):\n",
    "            if not (0 <= P[i][j] <= 1) :\n",
    "                print(f'P[{i}][{j}] = {P[i][j]} n\\'est pas compris entre 0 et 1')\n",
    "                return False\n",
    "            sum += P[i][j]\n",
    "        if sum != 1:\n",
    "            print(\"La somme de la colonne\", j, \"=\",sum,\"ne fait pas 1\")\n",
    "            return False\n",
    "    return True and est_stochastique(P)\n",
    "\n",
    "a = np.array([[0,0.5,0.5], [0,1,0], [0.33, 0.34, 0.33]])\n",
    "b = np.full((3,3), 1/3)\n",
    "print(a)\n",
    "print(b)\n",
    "print(est_stochastique(a))\n",
    "est_bistochastique(b)"
   ]
  },
  {
   "cell_type": "markdown",
   "metadata": {},
   "source": [
    "Ex 4: Transposer\n",
    "\n",
    "Programmer une fonction qui, étant donné une matrice à deux dimensions A, retourne la matrice B dont la première colonne est la première ligne de A, la seconde la deuxième ligne de A, etc. B s’appelle la transposée de A."
   ]
  },
  {
   "cell_type": "code",
   "execution_count": 57,
   "metadata": {},
   "outputs": [
    {
     "output_type": "stream",
     "name": "stdout",
     "text": [
      "[[1 2 3]\n [4 5 6]]\n[[1 4]\n [2 5]\n [3 6]]\n"
     ]
    }
   ],
   "source": [
    "import numpy as np \n",
    "\n",
    "def transpose(a):\n",
    "    if a.ndim !=2:\n",
    "        print(\"Pas une matrice\")\n",
    "        return\n",
    "    \n",
    "    return np.transpose(a)\n",
    "\n",
    "a = np.array([[1,2,3], [4,5,6]])\n",
    "\n",
    "print(a)\n",
    "print(transpose(a))"
   ]
  },
  {
   "cell_type": "markdown",
   "metadata": {},
   "source": [
    "Ex 5: Permutations\n",
    "1. $M$ désignant une matrice quelconque d’entiers à $l_i$ lignes et $co$ colonnes, $n$ un entier quelconque, programmer une fonction qui retourne la matrice $Sortie$ qui empile verticalement les $co+1$ matrices obtenues en adjoignant à $M$ une colonne $A$ à $li$ lignes dont tousles éléments sont égaux à $n$, $A$ étant placée d’abord devant $M$, puis entre la première et deuxième colonne de $M^a$,etc, jusqu’à ce que $A$ devienne sa dernière colonne. La matriceobtenue  aura $co+1$ colonnes et $(n+1)$ $li$ lignes\n",
    "\n",
    "2. Écrire toutes les permutations de(1, ..., n)"
   ]
  },
  {
   "cell_type": "code",
   "execution_count": null,
   "metadata": {},
   "outputs": [],
   "source": []
  }
 ],
 "metadata": {
  "kernelspec": {
   "name": "python3",
   "display_name": "Python 3.8.1 64-bit",
   "metadata": {
    "interpreter": {
     "hash": "435fa732d06433dda852a0d17d881b7b9adbbe83c2c164a72d9893d088821735"
    }
   }
  },
  "language_info": {
   "codemirror_mode": {
    "name": "ipython",
    "version": 3
   },
   "file_extension": ".py",
   "mimetype": "text/x-python",
   "name": "python",
   "nbconvert_exporter": "python",
   "pygments_lexer": "ipython3",
   "version": "3.8.1-final"
  }
 },
 "nbformat": 4,
 "nbformat_minor": 4
}